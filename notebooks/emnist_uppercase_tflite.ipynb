{
 "cells": [
  {
   "metadata": {},
   "cell_type": "markdown",
   "source": "Install the required packages",
   "id": "522a01da1699b6ae"
  },
  {
   "metadata": {
    "ExecuteTime": {
     "end_time": "2025-05-23T14:21:14.782774Z",
     "start_time": "2025-05-23T14:21:12.428748Z"
    }
   },
   "cell_type": "code",
   "source": [
    "!pip install tensorflow\n",
    "!pip install tensorflow_datasets\n",
    "!pip install numpy\n",
    "!pip install tensorflow-model-optimization\n",
    "!pip install tf_keras"
   ],
   "id": "322ce374b236db71",
   "outputs": [
    {
     "name": "stdout",
     "output_type": "stream",
     "text": [
      "Requirement already satisfied: tensorflow in /Users/henblom/projects/github/henrikenblom/SIDPod_Buddy/.venv/lib/python3.10/site-packages (2.19.0)\r\n",
      "Requirement already satisfied: absl-py>=1.0.0 in /Users/henblom/projects/github/henrikenblom/SIDPod_Buddy/.venv/lib/python3.10/site-packages (from tensorflow) (1.4.0)\r\n",
      "Requirement already satisfied: astunparse>=1.6.0 in /Users/henblom/projects/github/henrikenblom/SIDPod_Buddy/.venv/lib/python3.10/site-packages (from tensorflow) (1.6.3)\r\n",
      "Requirement already satisfied: flatbuffers>=24.3.25 in /Users/henblom/projects/github/henrikenblom/SIDPod_Buddy/.venv/lib/python3.10/site-packages (from tensorflow) (25.2.10)\r\n",
      "Requirement already satisfied: gast!=0.5.0,!=0.5.1,!=0.5.2,>=0.2.1 in /Users/henblom/projects/github/henrikenblom/SIDPod_Buddy/.venv/lib/python3.10/site-packages (from tensorflow) (0.6.0)\r\n",
      "Requirement already satisfied: google-pasta>=0.1.1 in /Users/henblom/projects/github/henrikenblom/SIDPod_Buddy/.venv/lib/python3.10/site-packages (from tensorflow) (0.2.0)\r\n",
      "Requirement already satisfied: libclang>=13.0.0 in /Users/henblom/projects/github/henrikenblom/SIDPod_Buddy/.venv/lib/python3.10/site-packages (from tensorflow) (18.1.1)\r\n",
      "Requirement already satisfied: opt-einsum>=2.3.2 in /Users/henblom/projects/github/henrikenblom/SIDPod_Buddy/.venv/lib/python3.10/site-packages (from tensorflow) (3.4.0)\r\n",
      "Requirement already satisfied: packaging in /Users/henblom/projects/github/henrikenblom/SIDPod_Buddy/.venv/lib/python3.10/site-packages (from tensorflow) (25.0)\r\n",
      "Requirement already satisfied: protobuf!=4.21.0,!=4.21.1,!=4.21.2,!=4.21.3,!=4.21.4,!=4.21.5,<6.0.0dev,>=3.20.3 in /Users/henblom/projects/github/henrikenblom/SIDPod_Buddy/.venv/lib/python3.10/site-packages (from tensorflow) (4.21.12)\r\n",
      "Requirement already satisfied: requests<3,>=2.21.0 in /Users/henblom/projects/github/henrikenblom/SIDPod_Buddy/.venv/lib/python3.10/site-packages (from tensorflow) (2.32.3)\r\n",
      "Requirement already satisfied: setuptools in /Users/henblom/projects/github/henrikenblom/SIDPod_Buddy/.venv/lib/python3.10/site-packages (from tensorflow) (78.1.0)\r\n",
      "Requirement already satisfied: six>=1.12.0 in /Users/henblom/projects/github/henrikenblom/SIDPod_Buddy/.venv/lib/python3.10/site-packages (from tensorflow) (1.17.0)\r\n",
      "Requirement already satisfied: termcolor>=1.1.0 in /Users/henblom/projects/github/henrikenblom/SIDPod_Buddy/.venv/lib/python3.10/site-packages (from tensorflow) (3.1.0)\r\n",
      "Requirement already satisfied: typing-extensions>=3.6.6 in /Users/henblom/projects/github/henrikenblom/SIDPod_Buddy/.venv/lib/python3.10/site-packages (from tensorflow) (4.13.2)\r\n",
      "Requirement already satisfied: wrapt>=1.11.0 in /Users/henblom/projects/github/henrikenblom/SIDPod_Buddy/.venv/lib/python3.10/site-packages (from tensorflow) (1.17.2)\r\n",
      "Requirement already satisfied: grpcio<2.0,>=1.24.3 in /Users/henblom/projects/github/henrikenblom/SIDPod_Buddy/.venv/lib/python3.10/site-packages (from tensorflow) (1.71.0)\r\n",
      "Requirement already satisfied: tensorboard~=2.19.0 in /Users/henblom/projects/github/henrikenblom/SIDPod_Buddy/.venv/lib/python3.10/site-packages (from tensorflow) (2.19.0)\r\n",
      "Requirement already satisfied: keras>=3.5.0 in /Users/henblom/projects/github/henrikenblom/SIDPod_Buddy/.venv/lib/python3.10/site-packages (from tensorflow) (3.10.0)\r\n",
      "Requirement already satisfied: numpy<2.2.0,>=1.26.0 in /Users/henblom/projects/github/henrikenblom/SIDPod_Buddy/.venv/lib/python3.10/site-packages (from tensorflow) (1.26.4)\r\n",
      "Requirement already satisfied: h5py>=3.11.0 in /Users/henblom/projects/github/henrikenblom/SIDPod_Buddy/.venv/lib/python3.10/site-packages (from tensorflow) (3.13.0)\r\n",
      "Requirement already satisfied: ml-dtypes<1.0.0,>=0.5.1 in /Users/henblom/projects/github/henrikenblom/SIDPod_Buddy/.venv/lib/python3.10/site-packages (from tensorflow) (0.5.1)\r\n",
      "Requirement already satisfied: tensorflow-io-gcs-filesystem>=0.23.1 in /Users/henblom/projects/github/henrikenblom/SIDPod_Buddy/.venv/lib/python3.10/site-packages (from tensorflow) (0.37.1)\r\n",
      "Requirement already satisfied: wheel<1.0,>=0.23.0 in /Users/henblom/projects/github/henrikenblom/SIDPod_Buddy/.venv/lib/python3.10/site-packages (from astunparse>=1.6.0->tensorflow) (0.45.1)\r\n",
      "Requirement already satisfied: rich in /Users/henblom/projects/github/henrikenblom/SIDPod_Buddy/.venv/lib/python3.10/site-packages (from keras>=3.5.0->tensorflow) (14.0.0)\r\n",
      "Requirement already satisfied: namex in /Users/henblom/projects/github/henrikenblom/SIDPod_Buddy/.venv/lib/python3.10/site-packages (from keras>=3.5.0->tensorflow) (0.0.9)\r\n",
      "Requirement already satisfied: optree in /Users/henblom/projects/github/henrikenblom/SIDPod_Buddy/.venv/lib/python3.10/site-packages (from keras>=3.5.0->tensorflow) (0.15.0)\r\n",
      "Requirement already satisfied: charset-normalizer<4,>=2 in /Users/henblom/projects/github/henrikenblom/SIDPod_Buddy/.venv/lib/python3.10/site-packages (from requests<3,>=2.21.0->tensorflow) (3.4.2)\r\n",
      "Requirement already satisfied: idna<4,>=2.5 in /Users/henblom/projects/github/henrikenblom/SIDPod_Buddy/.venv/lib/python3.10/site-packages (from requests<3,>=2.21.0->tensorflow) (3.10)\r\n",
      "Requirement already satisfied: urllib3<3,>=1.21.1 in /Users/henblom/projects/github/henrikenblom/SIDPod_Buddy/.venv/lib/python3.10/site-packages (from requests<3,>=2.21.0->tensorflow) (2.4.0)\r\n",
      "Requirement already satisfied: certifi>=2017.4.17 in /Users/henblom/projects/github/henrikenblom/SIDPod_Buddy/.venv/lib/python3.10/site-packages (from requests<3,>=2.21.0->tensorflow) (2025.4.26)\r\n",
      "Requirement already satisfied: markdown>=2.6.8 in /Users/henblom/projects/github/henrikenblom/SIDPod_Buddy/.venv/lib/python3.10/site-packages (from tensorboard~=2.19.0->tensorflow) (3.8)\r\n",
      "Requirement already satisfied: tensorboard-data-server<0.8.0,>=0.7.0 in /Users/henblom/projects/github/henrikenblom/SIDPod_Buddy/.venv/lib/python3.10/site-packages (from tensorboard~=2.19.0->tensorflow) (0.7.2)\r\n",
      "Requirement already satisfied: werkzeug>=1.0.1 in /Users/henblom/projects/github/henrikenblom/SIDPod_Buddy/.venv/lib/python3.10/site-packages (from tensorboard~=2.19.0->tensorflow) (3.1.3)\r\n",
      "Requirement already satisfied: MarkupSafe>=2.1.1 in /Users/henblom/projects/github/henrikenblom/SIDPod_Buddy/.venv/lib/python3.10/site-packages (from werkzeug>=1.0.1->tensorboard~=2.19.0->tensorflow) (3.0.2)\r\n",
      "Requirement already satisfied: markdown-it-py>=2.2.0 in /Users/henblom/projects/github/henrikenblom/SIDPod_Buddy/.venv/lib/python3.10/site-packages (from rich->keras>=3.5.0->tensorflow) (3.0.0)\r\n",
      "Requirement already satisfied: pygments<3.0.0,>=2.13.0 in /Users/henblom/projects/github/henrikenblom/SIDPod_Buddy/.venv/lib/python3.10/site-packages (from rich->keras>=3.5.0->tensorflow) (2.19.1)\r\n",
      "Requirement already satisfied: mdurl~=0.1 in /Users/henblom/projects/github/henrikenblom/SIDPod_Buddy/.venv/lib/python3.10/site-packages (from markdown-it-py>=2.2.0->rich->keras>=3.5.0->tensorflow) (0.1.2)\r\n",
      "\r\n",
      "\u001B[1m[\u001B[0m\u001B[34;49mnotice\u001B[0m\u001B[1;39;49m]\u001B[0m\u001B[39;49m A new release of pip is available: \u001B[0m\u001B[31;49m25.0.1\u001B[0m\u001B[39;49m -> \u001B[0m\u001B[32;49m25.1.1\u001B[0m\r\n",
      "\u001B[1m[\u001B[0m\u001B[34;49mnotice\u001B[0m\u001B[1;39;49m]\u001B[0m\u001B[39;49m To update, run: \u001B[0m\u001B[32;49mpip install --upgrade pip\u001B[0m\r\n",
      "Requirement already satisfied: tensorflow_datasets in /Users/henblom/projects/github/henrikenblom/SIDPod_Buddy/.venv/lib/python3.10/site-packages (4.9.8)\r\n",
      "Requirement already satisfied: absl-py in /Users/henblom/projects/github/henrikenblom/SIDPod_Buddy/.venv/lib/python3.10/site-packages (from tensorflow_datasets) (1.4.0)\r\n",
      "Requirement already satisfied: dm-tree in /Users/henblom/projects/github/henrikenblom/SIDPod_Buddy/.venv/lib/python3.10/site-packages (from tensorflow_datasets) (0.1.9)\r\n",
      "Requirement already satisfied: etils>=1.6.0 in /Users/henblom/projects/github/henrikenblom/SIDPod_Buddy/.venv/lib/python3.10/site-packages (from etils[edc,enp,epath,epy,etree]>=1.6.0; python_version < \"3.11\"->tensorflow_datasets) (1.12.2)\r\n",
      "Requirement already satisfied: immutabledict in /Users/henblom/projects/github/henrikenblom/SIDPod_Buddy/.venv/lib/python3.10/site-packages (from tensorflow_datasets) (4.2.1)\r\n",
      "Requirement already satisfied: numpy in /Users/henblom/projects/github/henrikenblom/SIDPod_Buddy/.venv/lib/python3.10/site-packages (from tensorflow_datasets) (1.26.4)\r\n",
      "Requirement already satisfied: promise in /Users/henblom/projects/github/henrikenblom/SIDPod_Buddy/.venv/lib/python3.10/site-packages (from tensorflow_datasets) (2.3)\r\n",
      "Requirement already satisfied: protobuf>=3.20 in /Users/henblom/projects/github/henrikenblom/SIDPod_Buddy/.venv/lib/python3.10/site-packages (from tensorflow_datasets) (4.21.12)\r\n",
      "Requirement already satisfied: psutil in /Users/henblom/projects/github/henrikenblom/SIDPod_Buddy/.venv/lib/python3.10/site-packages (from tensorflow_datasets) (7.0.0)\r\n",
      "Requirement already satisfied: pyarrow in /Users/henblom/projects/github/henrikenblom/SIDPod_Buddy/.venv/lib/python3.10/site-packages (from tensorflow_datasets) (20.0.0)\r\n",
      "Requirement already satisfied: requests>=2.19.0 in /Users/henblom/projects/github/henrikenblom/SIDPod_Buddy/.venv/lib/python3.10/site-packages (from tensorflow_datasets) (2.32.3)\r\n",
      "Requirement already satisfied: simple_parsing in /Users/henblom/projects/github/henrikenblom/SIDPod_Buddy/.venv/lib/python3.10/site-packages (from tensorflow_datasets) (0.1.7)\r\n",
      "Requirement already satisfied: tensorflow-metadata in /Users/henblom/projects/github/henrikenblom/SIDPod_Buddy/.venv/lib/python3.10/site-packages (from tensorflow_datasets) (1.17.1)\r\n",
      "Requirement already satisfied: termcolor in /Users/henblom/projects/github/henrikenblom/SIDPod_Buddy/.venv/lib/python3.10/site-packages (from tensorflow_datasets) (3.1.0)\r\n",
      "Requirement already satisfied: toml in /Users/henblom/projects/github/henrikenblom/SIDPod_Buddy/.venv/lib/python3.10/site-packages (from tensorflow_datasets) (0.10.2)\r\n",
      "Requirement already satisfied: tqdm in /Users/henblom/projects/github/henrikenblom/SIDPod_Buddy/.venv/lib/python3.10/site-packages (from tensorflow_datasets) (4.67.1)\r\n",
      "Requirement already satisfied: wrapt in /Users/henblom/projects/github/henrikenblom/SIDPod_Buddy/.venv/lib/python3.10/site-packages (from tensorflow_datasets) (1.17.2)\r\n",
      "Requirement already satisfied: einops in /Users/henblom/projects/github/henrikenblom/SIDPod_Buddy/.venv/lib/python3.10/site-packages (from etils[edc,enp,epath,epy,etree]>=1.6.0; python_version < \"3.11\"->tensorflow_datasets) (0.8.1)\r\n",
      "Requirement already satisfied: typing_extensions in /Users/henblom/projects/github/henrikenblom/SIDPod_Buddy/.venv/lib/python3.10/site-packages (from etils[edc,enp,epath,epy,etree]>=1.6.0; python_version < \"3.11\"->tensorflow_datasets) (4.13.2)\r\n",
      "Requirement already satisfied: fsspec in /Users/henblom/projects/github/henrikenblom/SIDPod_Buddy/.venv/lib/python3.10/site-packages (from etils[edc,enp,epath,epy,etree]>=1.6.0; python_version < \"3.11\"->tensorflow_datasets) (2025.5.0)\r\n",
      "Requirement already satisfied: importlib_resources in /Users/henblom/projects/github/henrikenblom/SIDPod_Buddy/.venv/lib/python3.10/site-packages (from etils[edc,enp,epath,epy,etree]>=1.6.0; python_version < \"3.11\"->tensorflow_datasets) (6.5.2)\r\n",
      "Requirement already satisfied: zipp in /Users/henblom/projects/github/henrikenblom/SIDPod_Buddy/.venv/lib/python3.10/site-packages (from etils[edc,enp,epath,epy,etree]>=1.6.0; python_version < \"3.11\"->tensorflow_datasets) (3.21.0)\r\n",
      "Requirement already satisfied: charset-normalizer<4,>=2 in /Users/henblom/projects/github/henrikenblom/SIDPod_Buddy/.venv/lib/python3.10/site-packages (from requests>=2.19.0->tensorflow_datasets) (3.4.2)\r\n",
      "Requirement already satisfied: idna<4,>=2.5 in /Users/henblom/projects/github/henrikenblom/SIDPod_Buddy/.venv/lib/python3.10/site-packages (from requests>=2.19.0->tensorflow_datasets) (3.10)\r\n",
      "Requirement already satisfied: urllib3<3,>=1.21.1 in /Users/henblom/projects/github/henrikenblom/SIDPod_Buddy/.venv/lib/python3.10/site-packages (from requests>=2.19.0->tensorflow_datasets) (2.4.0)\r\n",
      "Requirement already satisfied: certifi>=2017.4.17 in /Users/henblom/projects/github/henrikenblom/SIDPod_Buddy/.venv/lib/python3.10/site-packages (from requests>=2.19.0->tensorflow_datasets) (2025.4.26)\r\n",
      "Requirement already satisfied: attrs>=18.2.0 in /Users/henblom/projects/github/henrikenblom/SIDPod_Buddy/.venv/lib/python3.10/site-packages (from dm-tree->tensorflow_datasets) (25.3.0)\r\n",
      "Requirement already satisfied: six in /Users/henblom/projects/github/henrikenblom/SIDPod_Buddy/.venv/lib/python3.10/site-packages (from promise->tensorflow_datasets) (1.17.0)\r\n",
      "Requirement already satisfied: docstring-parser<1.0,>=0.15 in /Users/henblom/projects/github/henrikenblom/SIDPod_Buddy/.venv/lib/python3.10/site-packages (from simple_parsing->tensorflow_datasets) (0.16)\r\n",
      "\r\n",
      "\u001B[1m[\u001B[0m\u001B[34;49mnotice\u001B[0m\u001B[1;39;49m]\u001B[0m\u001B[39;49m A new release of pip is available: \u001B[0m\u001B[31;49m25.0.1\u001B[0m\u001B[39;49m -> \u001B[0m\u001B[32;49m25.1.1\u001B[0m\r\n",
      "\u001B[1m[\u001B[0m\u001B[34;49mnotice\u001B[0m\u001B[1;39;49m]\u001B[0m\u001B[39;49m To update, run: \u001B[0m\u001B[32;49mpip install --upgrade pip\u001B[0m\r\n",
      "Requirement already satisfied: numpy in /Users/henblom/projects/github/henrikenblom/SIDPod_Buddy/.venv/lib/python3.10/site-packages (1.26.4)\r\n",
      "\r\n",
      "\u001B[1m[\u001B[0m\u001B[34;49mnotice\u001B[0m\u001B[1;39;49m]\u001B[0m\u001B[39;49m A new release of pip is available: \u001B[0m\u001B[31;49m25.0.1\u001B[0m\u001B[39;49m -> \u001B[0m\u001B[32;49m25.1.1\u001B[0m\r\n",
      "\u001B[1m[\u001B[0m\u001B[34;49mnotice\u001B[0m\u001B[1;39;49m]\u001B[0m\u001B[39;49m To update, run: \u001B[0m\u001B[32;49mpip install --upgrade pip\u001B[0m\r\n",
      "Requirement already satisfied: tensorflow-model-optimization in /Users/henblom/projects/github/henrikenblom/SIDPod_Buddy/.venv/lib/python3.10/site-packages (0.8.0)\r\n",
      "Requirement already satisfied: absl-py~=1.2 in /Users/henblom/projects/github/henrikenblom/SIDPod_Buddy/.venv/lib/python3.10/site-packages (from tensorflow-model-optimization) (1.4.0)\r\n",
      "Requirement already satisfied: dm-tree~=0.1.1 in /Users/henblom/projects/github/henrikenblom/SIDPod_Buddy/.venv/lib/python3.10/site-packages (from tensorflow-model-optimization) (0.1.9)\r\n",
      "Requirement already satisfied: numpy~=1.23 in /Users/henblom/projects/github/henrikenblom/SIDPod_Buddy/.venv/lib/python3.10/site-packages (from tensorflow-model-optimization) (1.26.4)\r\n",
      "Requirement already satisfied: six~=1.14 in /Users/henblom/projects/github/henrikenblom/SIDPod_Buddy/.venv/lib/python3.10/site-packages (from tensorflow-model-optimization) (1.17.0)\r\n",
      "Requirement already satisfied: attrs>=18.2.0 in /Users/henblom/projects/github/henrikenblom/SIDPod_Buddy/.venv/lib/python3.10/site-packages (from dm-tree~=0.1.1->tensorflow-model-optimization) (25.3.0)\r\n",
      "Requirement already satisfied: wrapt>=1.11.2 in /Users/henblom/projects/github/henrikenblom/SIDPod_Buddy/.venv/lib/python3.10/site-packages (from dm-tree~=0.1.1->tensorflow-model-optimization) (1.17.2)\r\n",
      "\r\n",
      "\u001B[1m[\u001B[0m\u001B[34;49mnotice\u001B[0m\u001B[1;39;49m]\u001B[0m\u001B[39;49m A new release of pip is available: \u001B[0m\u001B[31;49m25.0.1\u001B[0m\u001B[39;49m -> \u001B[0m\u001B[32;49m25.1.1\u001B[0m\r\n",
      "\u001B[1m[\u001B[0m\u001B[34;49mnotice\u001B[0m\u001B[1;39;49m]\u001B[0m\u001B[39;49m To update, run: \u001B[0m\u001B[32;49mpip install --upgrade pip\u001B[0m\r\n",
      "Requirement already satisfied: tf_keras in /Users/henblom/projects/github/henrikenblom/SIDPod_Buddy/.venv/lib/python3.10/site-packages (2.19.0)\r\n",
      "Requirement already satisfied: tensorflow<2.20,>=2.19 in /Users/henblom/projects/github/henrikenblom/SIDPod_Buddy/.venv/lib/python3.10/site-packages (from tf_keras) (2.19.0)\r\n",
      "Requirement already satisfied: absl-py>=1.0.0 in /Users/henblom/projects/github/henrikenblom/SIDPod_Buddy/.venv/lib/python3.10/site-packages (from tensorflow<2.20,>=2.19->tf_keras) (1.4.0)\r\n",
      "Requirement already satisfied: astunparse>=1.6.0 in /Users/henblom/projects/github/henrikenblom/SIDPod_Buddy/.venv/lib/python3.10/site-packages (from tensorflow<2.20,>=2.19->tf_keras) (1.6.3)\r\n",
      "Requirement already satisfied: flatbuffers>=24.3.25 in /Users/henblom/projects/github/henrikenblom/SIDPod_Buddy/.venv/lib/python3.10/site-packages (from tensorflow<2.20,>=2.19->tf_keras) (25.2.10)\r\n",
      "Requirement already satisfied: gast!=0.5.0,!=0.5.1,!=0.5.2,>=0.2.1 in /Users/henblom/projects/github/henrikenblom/SIDPod_Buddy/.venv/lib/python3.10/site-packages (from tensorflow<2.20,>=2.19->tf_keras) (0.6.0)\r\n",
      "Requirement already satisfied: google-pasta>=0.1.1 in /Users/henblom/projects/github/henrikenblom/SIDPod_Buddy/.venv/lib/python3.10/site-packages (from tensorflow<2.20,>=2.19->tf_keras) (0.2.0)\r\n",
      "Requirement already satisfied: libclang>=13.0.0 in /Users/henblom/projects/github/henrikenblom/SIDPod_Buddy/.venv/lib/python3.10/site-packages (from tensorflow<2.20,>=2.19->tf_keras) (18.1.1)\r\n",
      "Requirement already satisfied: opt-einsum>=2.3.2 in /Users/henblom/projects/github/henrikenblom/SIDPod_Buddy/.venv/lib/python3.10/site-packages (from tensorflow<2.20,>=2.19->tf_keras) (3.4.0)\r\n",
      "Requirement already satisfied: packaging in /Users/henblom/projects/github/henrikenblom/SIDPod_Buddy/.venv/lib/python3.10/site-packages (from tensorflow<2.20,>=2.19->tf_keras) (25.0)\r\n",
      "Requirement already satisfied: protobuf!=4.21.0,!=4.21.1,!=4.21.2,!=4.21.3,!=4.21.4,!=4.21.5,<6.0.0dev,>=3.20.3 in /Users/henblom/projects/github/henrikenblom/SIDPod_Buddy/.venv/lib/python3.10/site-packages (from tensorflow<2.20,>=2.19->tf_keras) (4.21.12)\r\n",
      "Requirement already satisfied: requests<3,>=2.21.0 in /Users/henblom/projects/github/henrikenblom/SIDPod_Buddy/.venv/lib/python3.10/site-packages (from tensorflow<2.20,>=2.19->tf_keras) (2.32.3)\r\n",
      "Requirement already satisfied: setuptools in /Users/henblom/projects/github/henrikenblom/SIDPod_Buddy/.venv/lib/python3.10/site-packages (from tensorflow<2.20,>=2.19->tf_keras) (78.1.0)\r\n",
      "Requirement already satisfied: six>=1.12.0 in /Users/henblom/projects/github/henrikenblom/SIDPod_Buddy/.venv/lib/python3.10/site-packages (from tensorflow<2.20,>=2.19->tf_keras) (1.17.0)\r\n",
      "Requirement already satisfied: termcolor>=1.1.0 in /Users/henblom/projects/github/henrikenblom/SIDPod_Buddy/.venv/lib/python3.10/site-packages (from tensorflow<2.20,>=2.19->tf_keras) (3.1.0)\r\n",
      "Requirement already satisfied: typing-extensions>=3.6.6 in /Users/henblom/projects/github/henrikenblom/SIDPod_Buddy/.venv/lib/python3.10/site-packages (from tensorflow<2.20,>=2.19->tf_keras) (4.13.2)\r\n",
      "Requirement already satisfied: wrapt>=1.11.0 in /Users/henblom/projects/github/henrikenblom/SIDPod_Buddy/.venv/lib/python3.10/site-packages (from tensorflow<2.20,>=2.19->tf_keras) (1.17.2)\r\n",
      "Requirement already satisfied: grpcio<2.0,>=1.24.3 in /Users/henblom/projects/github/henrikenblom/SIDPod_Buddy/.venv/lib/python3.10/site-packages (from tensorflow<2.20,>=2.19->tf_keras) (1.71.0)\r\n",
      "Requirement already satisfied: tensorboard~=2.19.0 in /Users/henblom/projects/github/henrikenblom/SIDPod_Buddy/.venv/lib/python3.10/site-packages (from tensorflow<2.20,>=2.19->tf_keras) (2.19.0)\r\n",
      "Requirement already satisfied: keras>=3.5.0 in /Users/henblom/projects/github/henrikenblom/SIDPod_Buddy/.venv/lib/python3.10/site-packages (from tensorflow<2.20,>=2.19->tf_keras) (3.10.0)\r\n",
      "Requirement already satisfied: numpy<2.2.0,>=1.26.0 in /Users/henblom/projects/github/henrikenblom/SIDPod_Buddy/.venv/lib/python3.10/site-packages (from tensorflow<2.20,>=2.19->tf_keras) (1.26.4)\r\n",
      "Requirement already satisfied: h5py>=3.11.0 in /Users/henblom/projects/github/henrikenblom/SIDPod_Buddy/.venv/lib/python3.10/site-packages (from tensorflow<2.20,>=2.19->tf_keras) (3.13.0)\r\n",
      "Requirement already satisfied: ml-dtypes<1.0.0,>=0.5.1 in /Users/henblom/projects/github/henrikenblom/SIDPod_Buddy/.venv/lib/python3.10/site-packages (from tensorflow<2.20,>=2.19->tf_keras) (0.5.1)\r\n",
      "Requirement already satisfied: tensorflow-io-gcs-filesystem>=0.23.1 in /Users/henblom/projects/github/henrikenblom/SIDPod_Buddy/.venv/lib/python3.10/site-packages (from tensorflow<2.20,>=2.19->tf_keras) (0.37.1)\r\n",
      "Requirement already satisfied: wheel<1.0,>=0.23.0 in /Users/henblom/projects/github/henrikenblom/SIDPod_Buddy/.venv/lib/python3.10/site-packages (from astunparse>=1.6.0->tensorflow<2.20,>=2.19->tf_keras) (0.45.1)\r\n",
      "Requirement already satisfied: rich in /Users/henblom/projects/github/henrikenblom/SIDPod_Buddy/.venv/lib/python3.10/site-packages (from keras>=3.5.0->tensorflow<2.20,>=2.19->tf_keras) (14.0.0)\r\n",
      "Requirement already satisfied: namex in /Users/henblom/projects/github/henrikenblom/SIDPod_Buddy/.venv/lib/python3.10/site-packages (from keras>=3.5.0->tensorflow<2.20,>=2.19->tf_keras) (0.0.9)\r\n",
      "Requirement already satisfied: optree in /Users/henblom/projects/github/henrikenblom/SIDPod_Buddy/.venv/lib/python3.10/site-packages (from keras>=3.5.0->tensorflow<2.20,>=2.19->tf_keras) (0.15.0)\r\n",
      "Requirement already satisfied: charset-normalizer<4,>=2 in /Users/henblom/projects/github/henrikenblom/SIDPod_Buddy/.venv/lib/python3.10/site-packages (from requests<3,>=2.21.0->tensorflow<2.20,>=2.19->tf_keras) (3.4.2)\r\n",
      "Requirement already satisfied: idna<4,>=2.5 in /Users/henblom/projects/github/henrikenblom/SIDPod_Buddy/.venv/lib/python3.10/site-packages (from requests<3,>=2.21.0->tensorflow<2.20,>=2.19->tf_keras) (3.10)\r\n",
      "Requirement already satisfied: urllib3<3,>=1.21.1 in /Users/henblom/projects/github/henrikenblom/SIDPod_Buddy/.venv/lib/python3.10/site-packages (from requests<3,>=2.21.0->tensorflow<2.20,>=2.19->tf_keras) (2.4.0)\r\n",
      "Requirement already satisfied: certifi>=2017.4.17 in /Users/henblom/projects/github/henrikenblom/SIDPod_Buddy/.venv/lib/python3.10/site-packages (from requests<3,>=2.21.0->tensorflow<2.20,>=2.19->tf_keras) (2025.4.26)\r\n",
      "Requirement already satisfied: markdown>=2.6.8 in /Users/henblom/projects/github/henrikenblom/SIDPod_Buddy/.venv/lib/python3.10/site-packages (from tensorboard~=2.19.0->tensorflow<2.20,>=2.19->tf_keras) (3.8)\r\n",
      "Requirement already satisfied: tensorboard-data-server<0.8.0,>=0.7.0 in /Users/henblom/projects/github/henrikenblom/SIDPod_Buddy/.venv/lib/python3.10/site-packages (from tensorboard~=2.19.0->tensorflow<2.20,>=2.19->tf_keras) (0.7.2)\r\n",
      "Requirement already satisfied: werkzeug>=1.0.1 in /Users/henblom/projects/github/henrikenblom/SIDPod_Buddy/.venv/lib/python3.10/site-packages (from tensorboard~=2.19.0->tensorflow<2.20,>=2.19->tf_keras) (3.1.3)\r\n",
      "Requirement already satisfied: MarkupSafe>=2.1.1 in /Users/henblom/projects/github/henrikenblom/SIDPod_Buddy/.venv/lib/python3.10/site-packages (from werkzeug>=1.0.1->tensorboard~=2.19.0->tensorflow<2.20,>=2.19->tf_keras) (3.0.2)\r\n",
      "Requirement already satisfied: markdown-it-py>=2.2.0 in /Users/henblom/projects/github/henrikenblom/SIDPod_Buddy/.venv/lib/python3.10/site-packages (from rich->keras>=3.5.0->tensorflow<2.20,>=2.19->tf_keras) (3.0.0)\r\n",
      "Requirement already satisfied: pygments<3.0.0,>=2.13.0 in /Users/henblom/projects/github/henrikenblom/SIDPod_Buddy/.venv/lib/python3.10/site-packages (from rich->keras>=3.5.0->tensorflow<2.20,>=2.19->tf_keras) (2.19.1)\r\n",
      "Requirement already satisfied: mdurl~=0.1 in /Users/henblom/projects/github/henrikenblom/SIDPod_Buddy/.venv/lib/python3.10/site-packages (from markdown-it-py>=2.2.0->rich->keras>=3.5.0->tensorflow<2.20,>=2.19->tf_keras) (0.1.2)\r\n",
      "\r\n",
      "\u001B[1m[\u001B[0m\u001B[34;49mnotice\u001B[0m\u001B[1;39;49m]\u001B[0m\u001B[39;49m A new release of pip is available: \u001B[0m\u001B[31;49m25.0.1\u001B[0m\u001B[39;49m -> \u001B[0m\u001B[32;49m25.1.1\u001B[0m\r\n",
      "\u001B[1m[\u001B[0m\u001B[34;49mnotice\u001B[0m\u001B[1;39;49m]\u001B[0m\u001B[39;49m To update, run: \u001B[0m\u001B[32;49mpip install --upgrade pip\u001B[0m\r\n"
     ]
    }
   ],
   "execution_count": 1
  },
  {
   "metadata": {},
   "cell_type": "markdown",
   "source": "Import the required libraries",
   "id": "fcc6338e1a470057"
  },
  {
   "metadata": {
    "ExecuteTime": {
     "end_time": "2025-05-23T14:21:16.653781Z",
     "start_time": "2025-05-23T14:21:14.861875Z"
    }
   },
   "cell_type": "code",
   "source": [
    "import tensorflow as tf\n",
    "import tensorflow_datasets as tfds\n",
    "import numpy as np\n",
    "import tensorflow_model_optimization as tfmot"
   ],
   "id": "d4d28b656b14e44",
   "outputs": [],
   "execution_count": 2
  },
  {
   "metadata": {},
   "cell_type": "markdown",
   "source": "Load the EMNIST 'byclass' dataset",
   "id": "70e7ee6511b2e496"
  },
  {
   "cell_type": "code",
   "id": "b6e9863deacc036d",
   "metadata": {
    "ExecuteTime": {
     "end_time": "2025-05-23T14:21:16.778523Z",
     "start_time": "2025-05-23T14:21:16.659487Z"
    }
   },
   "source": [
    "(train_ds, test_ds), info = tfds.load(\n",
    "    'emnist/byclass',\n",
    "    split=['train', 'test'],\n",
    "    as_supervised=True,\n",
    "    with_info=True\n",
    ")\n",
    "\n",
    "original_class_names = info.features['label'].names"
   ],
   "outputs": [],
   "execution_count": 3
  },
  {
   "metadata": {},
   "cell_type": "markdown",
   "source": [
    "dIn EMNIST byclass:<br>\n",
    "0-9 are digits<br>\n",
    "10-35 are uppercase letters A-Z<br>\n",
    "36-61 are lowercase letters a-z<br>\n",
    "\n",
    "Define the range of labels for uppercase letters"
   ],
   "id": "3f98c0c0b77c241"
  },
  {
   "metadata": {
    "ExecuteTime": {
     "end_time": "2025-05-23T14:21:16.847533Z",
     "start_time": "2025-05-23T14:21:16.784829Z"
    }
   },
   "cell_type": "code",
   "source": [
    "LABELS_TO_KEEP_START_INDEX = 10 # Corresponds to 'A'\n",
    "LABELS_TO_KEEP_END_INDEX = 35  # Corresponds to 'Z'\n",
    "NUM_CLASSES_TO_TRAIN = (LABELS_TO_KEEP_END_INDEX - LABELS_TO_KEEP_START_INDEX) + 1 # Should be 26\n",
    "\n",
    "def filter_uppercase(_, label):\n",
    "    is_uppercase = tf.logical_and(\n",
    "        tf.greater_equal(label, LABELS_TO_KEEP_START_INDEX),\n",
    "        tf.less_equal(label, LABELS_TO_KEEP_END_INDEX)\n",
    "    )\n",
    "    return is_uppercase\n",
    "\n",
    "def remap_label_to_zero_indexed(image, label):\n",
    "    new_label = label - LABELS_TO_KEEP_START_INDEX\n",
    "    return image, new_label\n",
    "\n",
    "def preprocess_image(image, label):\n",
    "    image = tf.image.rot90(image, k=-1)\n",
    "    image = tf.image.flip_left_right(image)\n",
    "    image = tf.cast(image, tf.float32) / 255.0\n",
    "    return image, label\n",
    "\n",
    "IMG_HEIGHT = 28\n",
    "IMG_WIDTH = 28\n",
    "BATCH_SIZE = 32\n",
    "\n",
    "train_batches = train_ds.filter(filter_uppercase).map(remap_label_to_zero_indexed).map(preprocess_image).batch(BATCH_SIZE).prefetch(tf.data.AUTOTUNE)\n",
    "test_batches = test_ds.filter(filter_uppercase).map(remap_label_to_zero_indexed).map(preprocess_image).batch(BATCH_SIZE).prefetch(tf.data.AUTOTUNE)"
   ],
   "id": "45d69afece45575d",
   "outputs": [],
   "execution_count": 4
  },
  {
   "metadata": {},
   "cell_type": "markdown",
   "source": [
    "Define the Base Keras Model (Non-Quantized)<br>\n",
    "Perhaps add BatchNormalization for better quantization stability?<br>"
   ],
   "id": "709ba370e249b4b7"
  },
  {
   "metadata": {
    "ExecuteTime": {
     "end_time": "2025-05-23T14:21:16.879669Z",
     "start_time": "2025-05-23T14:21:16.853776Z"
    }
   },
   "cell_type": "code",
   "source": [
    "base_model = tf.keras.Sequential([\n",
    "    tf.keras.Input(shape=(IMG_HEIGHT, IMG_WIDTH, 1)),\n",
    "    tf.keras.layers.Conv2D(16, (3, 3), activation='relu'), # Reduced filters\n",
    "    tf.keras.layers.MaxPooling2D((2, 2)),\n",
    "    tf.keras.layers.Conv2D(32, (3, 3), activation='relu'), # Reduced filters\n",
    "    tf.keras.layers.MaxPooling2D((2, 2)),\n",
    "    tf.keras.layers.Flatten(),\n",
    "    tf.keras.layers.Dense(64, activation='relu'), # Reduced dense layer size\n",
    "    tf.keras.layers.Dropout(0.3), # Keep dropout for regularization\n",
    "    tf.keras.layers.Dense(NUM_CLASSES_TO_TRAIN, activation='softmax')\n",
    "])\n",
    "\n",
    "print(\"\\n--- Base Keras Model Summary (Before QAT) ---\")\n",
    "base_model.summary()"
   ],
   "id": "e72bb141ae2e030",
   "outputs": [
    {
     "name": "stdout",
     "output_type": "stream",
     "text": [
      "\n",
      "--- Base Keras Model Summary (Before QAT) ---\n",
      "Model: \"sequential\"\n",
      "_________________________________________________________________\n",
      " Layer (type)                Output Shape              Param #   \n",
      "=================================================================\n",
      " conv2d (Conv2D)             (None, 26, 26, 16)        160       \n",
      "                                                                 \n",
      " max_pooling2d (MaxPooling2  (None, 13, 13, 16)        0         \n",
      " D)                                                              \n",
      "                                                                 \n",
      " conv2d_1 (Conv2D)           (None, 11, 11, 32)        4640      \n",
      "                                                                 \n",
      " max_pooling2d_1 (MaxPoolin  (None, 5, 5, 32)          0         \n",
      " g2D)                                                            \n",
      "                                                                 \n",
      " flatten (Flatten)           (None, 800)               0         \n",
      "                                                                 \n",
      " dense (Dense)               (None, 64)                51264     \n",
      "                                                                 \n",
      " dropout (Dropout)           (None, 64)                0         \n",
      "                                                                 \n",
      " dense_1 (Dense)             (None, 26)                1690      \n",
      "                                                                 \n",
      "=================================================================\n",
      "Total params: 57754 (225.60 KB)\n",
      "Trainable params: 57754 (225.60 KB)\n",
      "Non-trainable params: 0 (0.00 Byte)\n",
      "_________________________________________________________________\n"
     ]
    }
   ],
   "execution_count": 5
  },
  {
   "metadata": {},
   "cell_type": "markdown",
   "source": [
    "Apply Quantization-Aware Training Wrappers<br>\n",
    "This step wraps the layers of the base_model with quantization operations.<br>"
   ],
   "id": "4a1337da4e2b627d"
  },
  {
   "metadata": {
    "ExecuteTime": {
     "end_time": "2025-05-23T14:21:17.338231Z",
     "start_time": "2025-05-23T14:21:16.889238Z"
    }
   },
   "cell_type": "code",
   "source": [
    "quantize_model = tfmot.quantization.keras.quantize_model\n",
    "q_aware_model = quantize_model(base_model)"
   ],
   "id": "f001db22922c3634",
   "outputs": [],
   "execution_count": 6
  },
  {
   "metadata": {},
   "cell_type": "markdown",
   "source": "Compile the Quantization-Aware Model",
   "id": "e9cc5fd6ffe8097c"
  },
  {
   "metadata": {
    "ExecuteTime": {
     "end_time": "2025-05-23T14:21:17.355684Z",
     "start_time": "2025-05-23T14:21:17.345051Z"
    }
   },
   "cell_type": "code",
   "source": [
    "q_aware_model.compile(optimizer='adam',\n",
    "                      loss=tf.keras.losses.SparseCategoricalCrossentropy(),\n",
    "                      metrics=['accuracy'])\n",
    "\n",
    "print(\"\\n--- Quantization-Aware Model Summary (During Training) ---\")\n",
    "q_aware_model.summary()"
   ],
   "id": "acba8169a8e26555",
   "outputs": [
    {
     "name": "stdout",
     "output_type": "stream",
     "text": [
      "\n",
      "--- Quantization-Aware Model Summary (During Training) ---\n",
      "Model: \"sequential\"\n",
      "_________________________________________________________________\n",
      " Layer (type)                Output Shape              Param #   \n",
      "=================================================================\n",
      " quantize_layer (QuantizeLa  (None, 28, 28, 1)         3         \n",
      " yer)                                                            \n",
      "                                                                 \n",
      " quant_conv2d (QuantizeWrap  (None, 26, 26, 16)        195       \n",
      " perV2)                                                          \n",
      "                                                                 \n",
      " quant_max_pooling2d (Quant  (None, 13, 13, 16)        1         \n",
      " izeWrapperV2)                                                   \n",
      "                                                                 \n",
      " quant_conv2d_1 (QuantizeWr  (None, 11, 11, 32)        4707      \n",
      " apperV2)                                                        \n",
      "                                                                 \n",
      " quant_max_pooling2d_1 (Qua  (None, 5, 5, 32)          1         \n",
      " ntizeWrapperV2)                                                 \n",
      "                                                                 \n",
      " quant_flatten (QuantizeWra  (None, 800)               1         \n",
      " pperV2)                                                         \n",
      "                                                                 \n",
      " quant_dense (QuantizeWrapp  (None, 64)                51269     \n",
      " erV2)                                                           \n",
      "                                                                 \n",
      " quant_dropout (QuantizeWra  (None, 64)                1         \n",
      " pperV2)                                                         \n",
      "                                                                 \n",
      " quant_dense_1 (QuantizeWra  (None, 26)                1695      \n",
      " pperV2)                                                         \n",
      "                                                                 \n",
      "=================================================================\n",
      "Total params: 57873 (226.07 KB)\n",
      "Trainable params: 57754 (225.60 KB)\n",
      "Non-trainable params: 119 (476.00 Byte)\n",
      "_________________________________________________________________\n"
     ]
    }
   ],
   "execution_count": 7
  },
  {
   "metadata": {},
   "cell_type": "markdown",
   "source": [
    "Define an EarlyStopping Callback<br>\n",
    "Stop training when validation accuracy reaches 97.5% (0.975) or more. Or when there's been no improvement for at least 20 epochs.<br>\n",
    "Restore model weights from the best epoch."
   ],
   "id": "c3d39147cf8f7664"
  },
  {
   "metadata": {
    "ExecuteTime": {
     "end_time": "2025-05-23T14:21:17.364889Z",
     "start_time": "2025-05-23T14:21:17.363159Z"
    }
   },
   "cell_type": "code",
   "source": [
    "early_stopping_callback = tf.keras.callbacks.EarlyStopping(\n",
    "    monitor='val_accuracy',\n",
    "    min_delta=0.001,\n",
    "    patience=20,\n",
    "    verbose=1,\n",
    "    mode='max',\n",
    "    baseline=0.965,\n",
    "    restore_best_weights=True\n",
    ")"
   ],
   "id": "3e6ae3fa7c8374d7",
   "outputs": [],
   "execution_count": 8
  },
  {
   "metadata": {},
   "cell_type": "markdown",
   "source": [
    "Define higher weights for problematic classes (e.g., \"O\"=14, \"Q\"=26)<br>\n",
    "The different weights are estimations based on manual testing on the actual device - an ESP32 with a Cirque trackpad.<br>"
   ],
   "id": "b3f5d9408d3663e3"
  },
  {
   "metadata": {
    "ExecuteTime": {
     "end_time": "2025-05-23T14:21:17.380568Z",
     "start_time": "2025-05-23T14:21:17.378459Z"
    }
   },
   "cell_type": "code",
   "source": [
    "class_weight = {i: 1.0 for i in range(NUM_CLASSES_TO_TRAIN)}\n",
    "class_weight[1] = 0.8  # \"B\"\n",
    "class_weight[2] = 3.0  # \"C\"\n",
    "class_weight[4] = 2.0  # \"E\"\n",
    "class_weight[6] = 1.5  # \"G\"\n",
    "class_weight[8] = 3.0  # \"I\"\n",
    "class_weight[9] = 2.8  # \"J\"\n",
    "class_weight[14] = 2.0  # \"O\"\n",
    "class_weight[15] = 1.7  # \"P\"\n",
    "class_weight[16] = 0.05  # \"Q\"\n",
    "class_weight[17] = 1.5  # \"R\"\n",
    "class_weight[18] = 2.0  # \"S\"\n",
    "class_weight[24] = 2.0 # \"Y\"\n",
    "class_weight[25] = 2.0 # \"Z\""
   ],
   "id": "8581a3692feadd1e",
   "outputs": [],
   "execution_count": 9
  },
  {
   "metadata": {},
   "cell_type": "markdown",
   "source": [
    "Train the Quantization-Aware Model with the Callback<br>\n",
    "Training will run for 50 epochs or until the early stopping condition is met.<br>"
   ],
   "id": "59d7859e45871d20"
  },
  {
   "metadata": {
    "ExecuteTime": {
     "end_time": "2025-05-23T14:40:38.510012Z",
     "start_time": "2025-05-23T14:21:17.390486Z"
    }
   },
   "cell_type": "code",
   "source": [
    "print(f\"\\n--- Training QAT Model (Stopping at val_accuracy >= {early_stopping_callback.baseline}) ---\")\n",
    "history = q_aware_model.fit(\n",
    "    train_batches,\n",
    "    epochs=50,\n",
    "    validation_data=test_batches,\n",
    "    callbacks=[early_stopping_callback],\n",
    "    class_weight=class_weight\n",
    ")"
   ],
   "id": "initial_id",
   "outputs": [
    {
     "name": "stdout",
     "output_type": "stream",
     "text": [
      "\n",
      "--- Training QAT Model (Stopping at val_accuracy >= 0.965) ---\n",
      "Epoch 1/50\n",
      "     41/Unknown - 0s 4ms/step - loss: 4.5025 - accuracy: 0.1799"
     ]
    },
    {
     "name": "stderr",
     "output_type": "stream",
     "text": [
      "2025-05-23 16:21:17.633490: I tensorflow/core/kernels/data/tf_record_dataset_op.cc:387] The default buffer size is 262144, which is overridden by the user specified `buffer_size` of 8388608\n"
     ]
    },
    {
     "name": "stdout",
     "output_type": "stream",
     "text": [
      "   5898/Unknown - 24s 4ms/step - loss: 0.5580 - accuracy: 0.8713"
     ]
    },
    {
     "name": "stderr",
     "output_type": "stream",
     "text": [
      "2025-05-23 16:21:41.665685: I tensorflow/core/framework/local_rendezvous.cc:407] Local rendezvous is aborting with status: OUT_OF_RANGE: End of sequence\n",
      "\t [[{{node IteratorGetNext}}]]\n"
     ]
    },
    {
     "name": "stdout",
     "output_type": "stream",
     "text": [
      "5905/5905 [==============================] - 28s 5ms/step - loss: 0.5576 - accuracy: 0.8714 - val_loss: 0.1778 - val_accuracy: 0.9506\n",
      "Epoch 2/50\n",
      "  38/5905 [..............................] - ETA: 24s - loss: 0.3702 - accuracy: 0.9054"
     ]
    },
    {
     "name": "stderr",
     "output_type": "stream",
     "text": [
      "2025-05-23 16:21:44.989527: I tensorflow/core/framework/local_rendezvous.cc:407] Local rendezvous is aborting with status: OUT_OF_RANGE: End of sequence\n",
      "\t [[{{node IteratorGetNext}}]]\n"
     ]
    },
    {
     "name": "stdout",
     "output_type": "stream",
     "text": [
      "5905/5905 [==============================] - 28s 5ms/step - loss: 0.2665 - accuracy: 0.9358 - val_loss: 0.1286 - val_accuracy: 0.9630\n",
      "Epoch 3/50\n",
      "5905/5905 [==============================] - 27s 5ms/step - loss: 0.2134 - accuracy: 0.9484 - val_loss: 0.1101 - val_accuracy: 0.9686\n",
      "Epoch 4/50\n",
      "5905/5905 [==============================] - 28s 5ms/step - loss: 0.1862 - accuracy: 0.9556 - val_loss: 0.1013 - val_accuracy: 0.9722\n",
      "Epoch 5/50\n",
      "5905/5905 [==============================] - 27s 5ms/step - loss: 0.1678 - accuracy: 0.9602 - val_loss: 0.0979 - val_accuracy: 0.9734\n",
      "Epoch 6/50\n",
      "5905/5905 [==============================] - 27s 5ms/step - loss: 0.1541 - accuracy: 0.9620 - val_loss: 0.1027 - val_accuracy: 0.9716\n",
      "Epoch 7/50\n",
      "5905/5905 [==============================] - 27s 5ms/step - loss: 0.1446 - accuracy: 0.9643 - val_loss: 0.0975 - val_accuracy: 0.9729\n",
      "Epoch 8/50\n",
      "5905/5905 [==============================] - 28s 5ms/step - loss: 0.1374 - accuracy: 0.9664 - val_loss: 0.0953 - val_accuracy: 0.9742\n",
      "Epoch 9/50\n",
      "5905/5905 [==============================] - 27s 5ms/step - loss: 0.1320 - accuracy: 0.9672 - val_loss: 0.0994 - val_accuracy: 0.9731\n",
      "Epoch 10/50\n",
      "5905/5905 [==============================] - 27s 5ms/step - loss: 0.1263 - accuracy: 0.9681 - val_loss: 0.1015 - val_accuracy: 0.9729\n",
      "Epoch 11/50\n",
      "5905/5905 [==============================] - 28s 5ms/step - loss: 0.1209 - accuracy: 0.9688 - val_loss: 0.0984 - val_accuracy: 0.9745\n",
      "Epoch 12/50\n",
      "5905/5905 [==============================] - 28s 5ms/step - loss: 0.1175 - accuracy: 0.9694 - val_loss: 0.1021 - val_accuracy: 0.9738\n",
      "Epoch 13/50\n",
      "5905/5905 [==============================] - 28s 5ms/step - loss: 0.1141 - accuracy: 0.9705 - val_loss: 0.1000 - val_accuracy: 0.9741\n",
      "Epoch 14/50\n",
      "5905/5905 [==============================] - 28s 5ms/step - loss: 0.1111 - accuracy: 0.9706 - val_loss: 0.1038 - val_accuracy: 0.9730\n",
      "Epoch 15/50\n",
      "5905/5905 [==============================] - 28s 5ms/step - loss: 0.1101 - accuracy: 0.9712 - val_loss: 0.1034 - val_accuracy: 0.9731\n",
      "Epoch 16/50\n",
      "5905/5905 [==============================] - 27s 5ms/step - loss: 0.1052 - accuracy: 0.9718 - val_loss: 0.1031 - val_accuracy: 0.9740\n",
      "Epoch 17/50\n",
      "5905/5905 [==============================] - 28s 5ms/step - loss: 0.1056 - accuracy: 0.9724 - val_loss: 0.1015 - val_accuracy: 0.9755\n",
      "Epoch 18/50\n",
      "5905/5905 [==============================] - 28s 5ms/step - loss: 0.1039 - accuracy: 0.9719 - val_loss: 0.1065 - val_accuracy: 0.9752\n",
      "Epoch 19/50\n",
      "5905/5905 [==============================] - 28s 5ms/step - loss: 0.1003 - accuracy: 0.9735 - val_loss: 0.1027 - val_accuracy: 0.9753\n",
      "Epoch 20/50\n",
      "5905/5905 [==============================] - 28s 5ms/step - loss: 0.1001 - accuracy: 0.9727 - val_loss: 0.1042 - val_accuracy: 0.9752\n",
      "Epoch 21/50\n",
      "5905/5905 [==============================] - 28s 5ms/step - loss: 0.0986 - accuracy: 0.9731 - val_loss: 0.1038 - val_accuracy: 0.9750\n",
      "Epoch 22/50\n",
      "5905/5905 [==============================] - 28s 5ms/step - loss: 0.0958 - accuracy: 0.9735 - val_loss: 0.1020 - val_accuracy: 0.9768\n",
      "Epoch 23/50\n",
      "5905/5905 [==============================] - 27s 5ms/step - loss: 0.0949 - accuracy: 0.9734 - val_loss: 0.1065 - val_accuracy: 0.9746\n",
      "Epoch 24/50\n",
      "5905/5905 [==============================] - 28s 5ms/step - loss: 0.0939 - accuracy: 0.9738 - val_loss: 0.1086 - val_accuracy: 0.9755\n",
      "Epoch 25/50\n",
      "5905/5905 [==============================] - 28s 5ms/step - loss: 0.0937 - accuracy: 0.9737 - val_loss: 0.1109 - val_accuracy: 0.9744\n",
      "Epoch 26/50\n",
      "5905/5905 [==============================] - 28s 5ms/step - loss: 0.0917 - accuracy: 0.9743 - val_loss: 0.1091 - val_accuracy: 0.9767\n",
      "Epoch 27/50\n",
      "5905/5905 [==============================] - 28s 5ms/step - loss: 0.0905 - accuracy: 0.9749 - val_loss: 0.1120 - val_accuracy: 0.9750\n",
      "Epoch 28/50\n",
      "5905/5905 [==============================] - 28s 5ms/step - loss: 0.0913 - accuracy: 0.9748 - val_loss: 0.1146 - val_accuracy: 0.9749\n",
      "Epoch 29/50\n",
      "5905/5905 [==============================] - 28s 5ms/step - loss: 0.0895 - accuracy: 0.9746 - val_loss: 0.1107 - val_accuracy: 0.9754\n",
      "Epoch 30/50\n",
      "5905/5905 [==============================] - 28s 5ms/step - loss: 0.0896 - accuracy: 0.9748 - val_loss: 0.1125 - val_accuracy: 0.9756\n",
      "Epoch 31/50\n",
      "5905/5905 [==============================] - 28s 5ms/step - loss: 0.0880 - accuracy: 0.9753 - val_loss: 0.1172 - val_accuracy: 0.9748\n",
      "Epoch 32/50\n",
      "5905/5905 [==============================] - 28s 5ms/step - loss: 0.0868 - accuracy: 0.9750 - val_loss: 0.1174 - val_accuracy: 0.9751\n",
      "Epoch 33/50\n",
      "5905/5905 [==============================] - 28s 5ms/step - loss: 0.0870 - accuracy: 0.9755 - val_loss: 0.1183 - val_accuracy: 0.9750\n",
      "Epoch 34/50\n",
      "5905/5905 [==============================] - 28s 5ms/step - loss: 0.0856 - accuracy: 0.9758 - val_loss: 0.1193 - val_accuracy: 0.9751\n",
      "Epoch 35/50\n",
      "5905/5905 [==============================] - 28s 5ms/step - loss: 0.0861 - accuracy: 0.9755 - val_loss: 0.1218 - val_accuracy: 0.9735\n",
      "Epoch 36/50\n",
      "5905/5905 [==============================] - 28s 5ms/step - loss: 0.0854 - accuracy: 0.9754 - val_loss: 0.1228 - val_accuracy: 0.9751\n",
      "Epoch 37/50\n",
      "5905/5905 [==============================] - 28s 5ms/step - loss: 0.0839 - accuracy: 0.9757 - val_loss: 0.1219 - val_accuracy: 0.9759\n",
      "Epoch 38/50\n",
      "5905/5905 [==============================] - 28s 5ms/step - loss: 0.0834 - accuracy: 0.9763 - val_loss: 0.1239 - val_accuracy: 0.9748\n",
      "Epoch 39/50\n",
      "5905/5905 [==============================] - 28s 5ms/step - loss: 0.0856 - accuracy: 0.9758 - val_loss: 0.1209 - val_accuracy: 0.9753\n",
      "Epoch 40/50\n",
      "5905/5905 [==============================] - 28s 5ms/step - loss: 0.0828 - accuracy: 0.9763 - val_loss: 0.1208 - val_accuracy: 0.9751\n",
      "Epoch 41/50\n",
      "5905/5905 [==============================] - 28s 5ms/step - loss: 0.0830 - accuracy: 0.9759 - val_loss: 0.1262 - val_accuracy: 0.9754\n",
      "Epoch 42/50\n",
      "5905/5905 [==============================] - 28s 5ms/step - loss: 0.0823 - accuracy: 0.9762 - val_loss: 0.1269 - val_accuracy: 0.9744\n",
      "Epoch 42: early stopping\n",
      "Restoring model weights from the end of the best epoch: 22.\n"
     ]
    }
   ],
   "execution_count": 10
  },
  {
   "metadata": {},
   "cell_type": "markdown",
   "source": "Evaluate the Quantization-Aware Model",
   "id": "42365b4d4f92711e"
  },
  {
   "metadata": {
    "ExecuteTime": {
     "end_time": "2025-05-23T14:40:41.822446Z",
     "start_time": "2025-05-23T14:40:38.519161Z"
    }
   },
   "cell_type": "code",
   "source": [
    "loss, accuracy = q_aware_model.evaluate(test_batches)\n",
    "print(f\"\\n--- Quantization-Aware Model Evaluation (Keras, Float Sim) ---\")\n",
    "print(f\"Test Loss: {loss:.4f}\")\n",
    "print(f\"Test Accuracy: {accuracy:.4f}\")"
   ],
   "id": "fe3825577519698e",
   "outputs": [
    {
     "name": "stdout",
     "output_type": "stream",
     "text": [
      "980/980 [==============================] - 3s 3ms/step - loss: 0.1020 - accuracy: 0.9768\n",
      "\n",
      "--- Quantization-Aware Model Evaluation (Keras, Float Sim) ---\n",
      "Test Loss: 0.1020\n",
      "Test Accuracy: 0.9768\n"
     ]
    }
   ],
   "execution_count": 11
  },
  {
   "metadata": {},
   "cell_type": "markdown",
   "source": [
    "Convert the Quantization-Aware Model to LiteRT (.tflite) with FLOAT16 weights<br>\n",
    "Input and output are still float32 (0.0-1.0)<br>"
   ],
   "id": "15a900ccbc66d10"
  },
  {
   "metadata": {
    "ExecuteTime": {
     "end_time": "2025-05-23T14:40:42.621666Z",
     "start_time": "2025-05-23T14:40:41.831433Z"
    }
   },
   "cell_type": "code",
   "source": [
    "converter_qat = tf.lite.TFLiteConverter.from_keras_model(q_aware_model)\n",
    "converter_qat.optimizations = [tf.lite.Optimize.DEFAULT]\n",
    "\n",
    "converter_qat.target_spec.supported_types = [tf.float16]\n",
    "\n",
    "converter_qat.inference_input_type = tf.float32\n",
    "converter_qat.inference_output_type = tf.float32\n",
    "\n",
    "tflite_model_qat_float16 = converter_qat.convert()"
   ],
   "id": "de6778f09acada01",
   "outputs": [
    {
     "name": "stdout",
     "output_type": "stream",
     "text": [
      "INFO:tensorflow:Assets written to: /var/folders/c2/tzr4yl1d2_d2zcw6f3x5h_480000gn/T/tmpdt2qkg8d/assets\n"
     ]
    },
    {
     "name": "stderr",
     "output_type": "stream",
     "text": [
      "INFO:tensorflow:Assets written to: /var/folders/c2/tzr4yl1d2_d2zcw6f3x5h_480000gn/T/tmpdt2qkg8d/assets\n",
      "/Users/henblom/projects/github/henrikenblom/SIDPod_Buddy/.venv/lib/python3.10/site-packages/tensorflow/lite/python/convert.py:854: UserWarning: Statistics for quantized inputs were expected, but not specified; continuing anyway.\n",
      "  warnings.warn(\n",
      "WARNING: All log messages before absl::InitializeLog() is called are written to STDERR\n",
      "W0000 00:00:1748011242.522097 3155413 tf_tfl_flatbuffer_helpers.cc:365] Ignored output_format.\n",
      "W0000 00:00:1748011242.522105 3155413 tf_tfl_flatbuffer_helpers.cc:368] Ignored drop_control_dependency.\n",
      "2025-05-23 16:40:42.522245: I tensorflow/cc/saved_model/reader.cc:83] Reading SavedModel from: /var/folders/c2/tzr4yl1d2_d2zcw6f3x5h_480000gn/T/tmpdt2qkg8d\n",
      "2025-05-23 16:40:42.523435: I tensorflow/cc/saved_model/reader.cc:52] Reading meta graph with tags { serve }\n",
      "2025-05-23 16:40:42.523439: I tensorflow/cc/saved_model/reader.cc:147] Reading SavedModel debug info (if present) from: /var/folders/c2/tzr4yl1d2_d2zcw6f3x5h_480000gn/T/tmpdt2qkg8d\n",
      "I0000 00:00:1748011242.529023 3155413 mlir_graph_optimization_pass.cc:425] MLIR V1 optimization pass is not enabled\n",
      "2025-05-23 16:40:42.529753: I tensorflow/cc/saved_model/loader.cc:236] Restoring SavedModel bundle.\n",
      "2025-05-23 16:40:42.557799: I tensorflow/cc/saved_model/loader.cc:220] Running initialization op on SavedModel bundle at path: /var/folders/c2/tzr4yl1d2_d2zcw6f3x5h_480000gn/T/tmpdt2qkg8d\n",
      "2025-05-23 16:40:42.566000: I tensorflow/cc/saved_model/loader.cc:471] SavedModel load for tags { serve }; Status: success: OK. Took 43755 microseconds.\n",
      "2025-05-23 16:40:42.580009: I tensorflow/compiler/mlir/tensorflow/utils/dump_mlir_util.cc:269] disabling MLIR crash reproducer, set env var `MLIR_CRASH_REPRODUCER_DIRECTORY` to enable.\n"
     ]
    }
   ],
   "execution_count": 12
  },
  {
   "metadata": {},
   "cell_type": "markdown",
   "source": "Save the Quantization-Aware TFLite model (Float16 weights)<br>",
   "id": "70a508a6b815ddfc"
  },
  {
   "metadata": {
    "ExecuteTime": {
     "end_time": "2025-05-23T14:40:42.632624Z",
     "start_time": "2025-05-23T14:40:42.630118Z"
    }
   },
   "cell_type": "code",
   "source": [
    "qat_float16_model_path = '.workdir/emnist_uppercase_qat_float16_model.tflite'\n",
    "with open(qat_float16_model_path, 'wb') as f:\n",
    "    f.write(tflite_model_qat_float16)\n",
    "\n",
    "print(f\"\\nQuantization-Aware TFLite model (Float16 weights) saved to: {qat_float16_model_path}\")"
   ],
   "id": "90149c0add976991",
   "outputs": [
    {
     "name": "stdout",
     "output_type": "stream",
     "text": [
      "\n",
      "Quantization-Aware TFLite model (Float16 weights) saved to: .workdir/emnist_uppercase_qat_float16_model.tflite\n"
     ]
    }
   ],
   "execution_count": 13
  },
  {
   "metadata": {},
   "cell_type": "markdown",
   "source": "Evaluate the Float16 Quantized LiteRT Model",
   "id": "9c706f4d498965ed"
  },
  {
   "metadata": {
    "ExecuteTime": {
     "end_time": "2025-05-23T14:40:47.425986Z",
     "start_time": "2025-05-23T14:40:42.639431Z"
    }
   },
   "cell_type": "code",
   "source": [
    "interpreter = tf.lite.Interpreter(model_content=tflite_model_qat_float16)\n",
    "interpreter.allocate_tensors()\n",
    "\n",
    "input_details = interpreter.get_input_details()\n",
    "output_details = interpreter.get_output_details()\n",
    "\n",
    "quant_test_accuracy = 0\n",
    "num_test_samples = 0\n",
    "\n",
    "for images, labels in test_batches:\n",
    "    for i in range(images.shape[0]):\n",
    "        input_data = images[i:i+1]\n",
    "        true_label = labels[i]\n",
    "\n",
    "        interpreter.set_tensor(input_details[0]['index'], input_data)\n",
    "        interpreter.invoke()\n",
    "        output = interpreter.get_tensor(output_details[0]['index'])\n",
    "\n",
    "        predicted_label = np.argmax(output[0])\n",
    "\n",
    "        if predicted_label == true_label:\n",
    "            quant_test_accuracy += 1\n",
    "        num_test_samples += 1\n",
    "\n",
    "final_quant_accuracy = quant_test_accuracy / num_test_samples\n",
    "print(f\"\\n--- QAT TFLite Model Evaluation (Python Interpreter, Float16 Weights) ---\")\n",
    "print(f\"Test Accuracy: {final_quant_accuracy:.4f}\")"
   ],
   "id": "55a70f7d997f70c1",
   "outputs": [
    {
     "name": "stderr",
     "output_type": "stream",
     "text": [
      "/Users/henblom/projects/github/henrikenblom/SIDPod_Buddy/.venv/lib/python3.10/site-packages/tensorflow/lite/python/interpreter.py:457: UserWarning:     Warning: tf.lite.Interpreter is deprecated and is scheduled for deletion in\n",
      "    TF 2.20. Please use the LiteRT interpreter from the ai_edge_litert package.\n",
      "    See the [migration guide](https://ai.google.dev/edge/litert/migration)\n",
      "    for details.\n",
      "    \n",
      "  warnings.warn(_INTERPRETER_DELETION_WARNING)\n",
      "INFO: Created TensorFlow Lite XNNPACK delegate for CPU.\n"
     ]
    },
    {
     "name": "stdout",
     "output_type": "stream",
     "text": [
      "\n",
      "--- QAT TFLite Model Evaluation (Python Interpreter, Float16 Weights) ---\n",
      "Test Accuracy: 0.9767\n"
     ]
    },
    {
     "name": "stderr",
     "output_type": "stream",
     "text": [
      "2025-05-23 16:40:47.423475: I tensorflow/core/framework/local_rendezvous.cc:407] Local rendezvous is aborting with status: OUT_OF_RANGE: End of sequence\n"
     ]
    }
   ],
   "execution_count": 14
  },
  {
   "metadata": {},
   "cell_type": "markdown",
   "source": "Save the Quantization-Aware TFLite model as a C array<br>",
   "id": "30ed3383cc9d77c3"
  },
  {
   "metadata": {
    "ExecuteTime": {
     "end_time": "2025-05-23T14:40:47.451253Z",
     "start_time": "2025-05-23T14:40:47.441561Z"
    }
   },
   "cell_type": "code",
   "source": [
    "with open(qat_float16_model_path, 'rb') as f:\n",
    "    tflite_model = f.read()\n",
    "\n",
    "c_array_name = 'emnist_uppercase_model_qat_float16'\n",
    "c_array_code = f\"const unsigned char {c_array_name}[] = {{\\n\"\n",
    "c_array_code += ', '.join([f'0x{byte:02x}' for byte in tflite_model])\n",
    "c_array_code += '\\n};'\n",
    "\n",
    "output_file = '../include/emnist_uppercase_model_qat_float16.h'\n",
    "with open(output_file, 'w') as f:\n",
    "    f.write(c_array_code)\n",
    "\n",
    "print(f\"QAT Float16 model converted to C array and saved as {output_file}\")"
   ],
   "id": "afc8513265b45c48",
   "outputs": [
    {
     "name": "stdout",
     "output_type": "stream",
     "text": [
      "QAT Float16 model converted to C array and saved as ../include/emnist_uppercase_model_qat_float16.h\n"
     ]
    }
   ],
   "execution_count": 15
  }
 ],
 "metadata": {
  "kernelspec": {
   "display_name": "Python 3",
   "language": "python",
   "name": "python3"
  },
  "language_info": {
   "codemirror_mode": {
    "name": "ipython",
    "version": 2
   },
   "file_extension": ".py",
   "mimetype": "text/x-python",
   "name": "python",
   "nbconvert_exporter": "python",
   "pygments_lexer": "ipython2",
   "version": "2.7.6"
  }
 },
 "nbformat": 4,
 "nbformat_minor": 5
}
